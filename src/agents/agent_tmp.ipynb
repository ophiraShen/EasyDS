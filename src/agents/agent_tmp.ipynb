{
 "cells": [
  {
   "cell_type": "code",
   "execution_count": 6,
   "metadata": {},
   "outputs": [],
   "source": [
    "import os\n",
    "from dotenv import load_dotenv\n",
    "\n",
    "load_dotenv()\n",
    "\n",
    "from langchain_deepseek import ChatDeepSeek\n",
    "from langchain_core.messages import HumanMessage, SystemMessage, AIMessage\n",
    "from langchain_core.prompts import ChatPromptTemplate, MessagesPlaceholder, PromptTemplate\n",
    "\n",
    "from langgraph.graph import StateGraph, START, END\n",
    "from langgraph.graph.message import AnyMessage, add_messages\n",
    "from langgraph.checkpoint.memory import MemorySaver\n",
    "\n",
    "from pydantic import BaseModel, Field, ConfigDict, field_validator\n",
    "from typing import Annotated, List, Optional, Dict, Any, Literal\n",
    "import json"
   ]
  },
  {
   "cell_type": "code",
   "execution_count": 8,
   "metadata": {},
   "outputs": [],
   "source": [
    "llm = ChatDeepSeek(model=\"deepseek-chat\", openai_api_key=os.getenv(\"DEEPSEEK_API_KEY\"))"
   ]
  },
  {
   "cell_type": "markdown",
   "metadata": {},
   "source": [
    "## 智能体间的通讯状态"
   ]
  },
  {
   "cell_type": "code",
   "execution_count": 5,
   "metadata": {},
   "outputs": [],
   "source": [
    "class State(BaseModel):\n",
    "    model_config = ConfigDict(arbitrary_types_allowed=True)\n",
    "\n",
    "    messages: Annotated[List[AnyMessage], add_messages] = Field(default_factory=list, title=\"对话列表\")\n",
    "    knowledge_results: list = Field(default=[], title=\"从存储数据结构知识图谱的向量数据库搜索到的相关知识点信息\")\n",
    "    current_knowledge_point: str = Field(default=\"\", title=\"当前知识点\")\n",
    "    is_right: bool = Field(default=False, title=\"用户回复是否正确\")\n",
    "    next_node: str = Field(default=\"teacher_agent\", title=\"下一个节点\")\n",
    "    success: bool = Field(default=False, title=\"节点执行是否成功\")\n",
    "    log: str = Field(default=\"\", title=\"节点执行日志\")\n",
    "\n",
    "    @field_validator(\"messages\", mode=\"before\")\n",
    "    def validate_messages(cls, v, info):\n",
    "        if 'messages' in info.data:\n",
    "            return add_messages(info.data['messages'], v)\n",
    "        else:\n",
    "            return v if isinstance(v, list) else [v]\n",
    "    "
   ]
  },
  {
   "cell_type": "markdown",
   "metadata": {},
   "source": [
    "## Router Agent\n",
    "\n",
    "接收历史对话信息以及最新的用户回复进行路由选择\n",
    "\n",
    "- 如果用户回复内容错误\n",
    "    - 直接转向 Teacher Agent\n",
    "\n",
    "- 如果用户回复内容正确，通过 rag 技术，在知识图谱中检索，进行知识点关联度判断\n",
    "    - 关联度低，转向 Teacher Agent，进行总结\n",
    "    - 关联度高，转向 Student Agent，进行追问\n",
    "    - 关联度中，随机选择"
   ]
  },
  {
   "cell_type": "code",
   "execution_count": 6,
   "metadata": {},
   "outputs": [],
   "source": [
    "class ReplyEvaluation(BaseModel):\n",
    "    \"\"\"\n",
    "    用户回复评估结果\n",
    "    - is_right: 用户回复是否正确\n",
    "    - current_knowledge_point: 涉及的知识点\n",
    "    \"\"\"\n",
    "    is_right: bool = Field(..., title=\"用户回复是否正确\")\n",
    "    current_knowledge_point: str = Field(..., title=\"涉及的主要知识点\")\n",
    "\n",
    "\n",
    "def router_agent(state: State) -> State:\n",
    "    \"\"\"根据当前状态进行路由\"\"\"\n",
    "    try:\n",
    "        conversation = \"\"\n",
    "        for message in state.messages:\n",
    "            if isinstance(message, HumanMessage):\n",
    "                conversation += f\"user: {message.content}\\n\"\n",
    "            elif isinstance(message, AIMessage):\n",
    "                conversation += f\"assistant: {message.content}\\n\"\n",
    "\n",
    "        # 首先进行用户回复正确性判断\n",
    "        prompt = ChatPromptTemplate([\n",
    "            (\"system\", \"你是一名数据结构领域的专家，现在需要判断用户回复是否正确，并给出涉及的主要知识点\"),\n",
    "            (\"human\", \"{conversation}\"),\n",
    "        ])\n",
    "        reply_evaluation_chain = prompt | llm.with_structured_output(ReplyEvaluation)\n",
    "        reply_evaluation = reply_evaluation_chain.invoke({\"conversation\": conversation})\n",
    "\n",
    "        # 根据用户回复正确性判断结果进行路由\n",
    "        if reply_evaluation.is_right:\n",
    "            # 用户回复正确，进行知识图谱检索\n",
    "            kg_result = retrieve_knowledge_for_routing(reply_evaluation.current_knowledge_point)\n",
    "            if \"error\" in kg_result:\n",
    "                return State(current_knowledge_point=reply_evaluation.current_knowledge_point, is_right=True, next_node=\"teacher_agent\", success=False, log=f\"知识图谱检索失败，转向TeacherAgent\")\n",
    "            \n",
    "            # 根据关联度判断结果进行路由\n",
    "            if kg_result[\"metadata\"][\"total_related_entities\"] == 0:\n",
    "                return State(current_knowledge_point=reply_evaluation.current_knowledge_point, is_right=True, next_node=\"teacher_agent\", success=False, log=f\"无相关知识点，转向TeacherAgent\")\n",
    "            \n",
    "            if kg_result[\"metadata\"][\"high_relevance_count\"] > 0:\n",
    "                high_relevance_entities = []\n",
    "                for re in kg_result[\"related_entities\"]:\n",
    "                    if re[\"relation\"][\"rs_score\"] > 0.6:\n",
    "                        high_relevance_entities.append(re)\n",
    "                    return State(current_knowledge_point=reply_evaluation.current_knowledge_point, knowledge_results=high_relevance_entities, is_right=True, next_node=\"stutent_agent\", success=False, log=f\"关联度高，转向StudentAgent\")\n",
    "\n",
    "            if kg_result[\"metadata\"][\"medium_relevance_count\"] > 0:\n",
    "                medium_relevance_entities = []\n",
    "                for re in kg_result[\"related_entities\"]:\n",
    "                    if re[\"relation\"][\"rs_score\"] > 0.3:\n",
    "                        medium_relevance_entities.append(re)\n",
    "                return State(current_knowledge_point=reply_evaluation.current_knowledge_point, knowledge_results=medium_relevance_entities, is_right=True, next_node=\"random\", success=False, log=f\"关联度中,随机选择\")\n",
    "                \n",
    "        else:\n",
    "            return State(current_knowledge_point=reply_evaluation.current_knowledge_point, is_right=False, next_node=\"teacher_agent\", success=True, log=f\"用户回复错误，转向TeacherAgent\")\n",
    "            \n",
    "            \n",
    "    except Exception as e:\n",
    "        return State(prompt=\"\", success=False, log=str(e))"
   ]
  },
  {
   "cell_type": "markdown",
   "metadata": {},
   "source": [
    "## Student Agent\n",
    "\n",
    "根据从 Router Agent 转来的状态进行回复"
   ]
  },
  {
   "cell_type": "code",
   "execution_count": null,
   "metadata": {},
   "outputs": [],
   "source": [
    "def student_agent(state: State) -> State:\n",
    "    \"\"\"根据当前状态进行回复\"\"\"\n",
    "    try:\n",
    "        conversation = \"\"\n",
    "        for message in state.messages:\n",
    "            if isinstance(message, HumanMessage):\n",
    "                conversation += f\"user: {message.content}\\n\"\n",
    "            elif isinstance(message, AIMessage):\n",
    "                conversation += f\"assistant: {message.content}\\n\"\n",
    "        \n",
    "        if state.knowledge_results:\n",
    "            student_agent_prompt = PromptTemplate.from_template(\"\"\"\n",
    "            你是一名正在学习数据结构的学生， 针对当前知识点：{current_knowledge_point}，用户已经做了正确的讲解，请结合可能涉及的相关知识点：{knowledge_results}，进一步追问。\n",
    "            \"\"\")\n",
    "        else:\n",
    "            student_agent_prompt = PromptTemplate.from_template(\"\"\"\n",
    "            你是一名正在学习数据结构的学生， 针对当前知识点：{current_knowledge_point}，用户已经做了正确的讲解，进一步追问。\n",
    "            \"\"\")\n",
    "\n",
    "        prompt = ChatPromptTemplate([\n",
    "            (\"system\", student_agent_prompt),\n",
    "            (\"human\", \"{conversation}\"),\n",
    "        ])\n",
    "        student_agent_chain = prompt | llm\n",
    "        guidance = student_agent_chain.invoke({\"conversation\": conversation})\n",
    "        return State(route=\"student_agent\", success=True, log=f\"StudentAgent生成成功\", messages=[AIMessage(content=guidance)])\n",
    "    \n",
    "    except Exception as e:\n",
    "        return State(route=\"student_agent\", success=False, log=str(e))\n"
   ]
  },
  {
   "cell_type": "markdown",
   "metadata": {},
   "source": [
    "## Teacher Agent\n",
    "\n",
    "根据从路由智能体转来的状态进行回复\n",
    "\n",
    "- 如果 is_right == False，即用户回答错误，teacher_agent 进行错误分类与讲解建议\n",
    "- 如果 is_right == True，那根据 log 的情况进行回复\n",
    "    - 知识图谱搜索失败，根据历史对话信息适当回复\n",
    "    - 无关联知识点，总结评价\n",
    "    - 中关联度，结合关联知识点，总结评价"
   ]
  },
  {
   "cell_type": "code",
   "execution_count": 9,
   "metadata": {},
   "outputs": [],
   "source": [
    "\n",
    "def teacher_agent(state: State) -> State:\n",
    "    \"\"\"根据当前状态进行回复\"\"\"\n",
    "    try:\n",
    "        conversation = \"\"\n",
    "        for message in state.messages:\n",
    "            if isinstance(message, HumanMessage):\n",
    "                conversation += f\"user: {message.content}\\n\"\n",
    "            elif isinstance(message, AIMessage):\n",
    "                conversation += f\"assistant: {message.content}\\n\"\n",
    "        \n",
    "        if state.is_right == False:\n",
    "            teacher_agent_prompt = PromptTemplate.from_template(\"\"\"\n",
    "            你是一名数据结构领域的专家， 针对当前知识点：{current_knowledge_point}，用户回答错误，请给出讲解建议。\n",
    "            \"\"\")    \n",
    "        elif state.knowledge_results:\n",
    "            teacher_agent_prompt = PromptTemplate.from_template(\"\"\"\n",
    "            你是一名数据结构领域的专家， 针对当前知识点：{current_knowledge_point}，用户回答正确，请结合可能涉及的相关知识点：{knowledge_results}，给出总结评价。\n",
    "            \"\"\")\n",
    "        else:\n",
    "            teacher_agent_prompt = PromptTemplate.from_template(\"\"\"\n",
    "            你是一名数据结构领域的专家， 针对当前知识点：{current_knowledge_point}，用户回答正确，请给出总结评价。\n",
    "            \"\"\")\n",
    "\n",
    "        prompt = ChatPromptTemplate([\n",
    "            (\"system\", teacher_agent_prompt),\n",
    "            (\"human\", \"{conversation}\"),\n",
    "        ])\n",
    "        teacher_agent_chain = prompt | llm\n",
    "        guidance = teacher_agent_chain.invoke({\"conversation\": conversation})\n",
    "        return State(route=\"teacher_agent\", success=True, log=f\"TeacherAgent生成成功\", messages=[AIMessage(content=guidance)])\n",
    "    except Exception as e:\n",
    "        return State(route=\"teacher_agent\", success=False, log=str(e))\n"
   ]
  },
  {
   "cell_type": "markdown",
   "metadata": {},
   "source": [
    "## Router"
   ]
  },
  {
   "cell_type": "code",
   "execution_count": 10,
   "metadata": {},
   "outputs": [],
   "source": [
    "def router(state: State) -> State:\n",
    "    \"\"\"根据RouterAgent返回的状态进行路由\"\"\"\n",
    "    if state.next_node == \"teacher_agent\":\n",
    "        return \"teacher_agent\"\n",
    "    elif state.next_node == \"student_agent\":\n",
    "        return \"student_agent\"\n",
    "    elif state.next_node == \"random\":\n",
    "        # 从 stutent_agent 和 teacher_agent 中随机选择\n",
    "        return random.choice([\"student_agent\", \"teacher_agent\"])\n",
    "    else:\n",
    "        return \"__end__\"\n"
   ]
  },
  {
   "cell_type": "markdown",
   "metadata": {},
   "source": [
    "## MainGraph"
   ]
  },
  {
   "cell_type": "code",
   "execution_count": 11,
   "metadata": {},
   "outputs": [],
   "source": [
    "workflow = StateGraph(State)\n",
    "\n",
    "workflow.add_node(\"router\", router)\n",
    "workflow.add_node(\"student_agent\", student_agent)\n",
    "workflow.add_node(\"teacher_agent\", teacher_agent)\n",
    "\n",
    "workflow.add_conditional_edges(\n",
    "    \"router\",\n",
    "    router,\n",
    "    {\n",
    "        \"student_agent\": \"student_agent\",\n",
    "        \"teacher_agent\": \"teacher_agent\",\n",
    "        \"__end__\": END\n",
    "    }\n",
    ")\n",
    "\n",
    "workflow.add_edge(START, \"router\")\n",
    "workflow.add_edge(\"student_agent\", \"teacher_agent\")\n",
    "workflow.add_edge(\"teacher_agent\", END)\n",
    "\n",
    "memory = MemorySaver()\n",
    "\n",
    "graph = workflow.compile(checkpointer=memory)\n"
   ]
  },
  {
   "cell_type": "code",
   "execution_count": null,
   "metadata": {},
   "outputs": [],
   "source": [
    "from IPython.display import Image, display\n",
    "\n",
    "# Setting xray to 1 will show the internal structure of the nested graph\n",
    "display(Image(graph.get_graph(xray=2).draw_mermaid_png()))"
   ]
  },
  {
   "cell_type": "code",
   "execution_count": null,
   "metadata": {},
   "outputs": [],
   "source": []
  }
 ],
 "metadata": {
  "kernelspec": {
   "display_name": "easyDS",
   "language": "python",
   "name": "python3"
  },
  "language_info": {
   "codemirror_mode": {
    "name": "ipython",
    "version": 3
   },
   "file_extension": ".py",
   "mimetype": "text/x-python",
   "name": "python",
   "nbconvert_exporter": "python",
   "pygments_lexer": "ipython3",
   "version": "3.11.11"
  }
 },
 "nbformat": 4,
 "nbformat_minor": 2
}
