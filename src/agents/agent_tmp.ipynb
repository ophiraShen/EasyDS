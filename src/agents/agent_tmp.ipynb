{
 "cells": [
  {
   "cell_type": "code",
   "execution_count": null,
   "metadata": {},
   "outputs": [],
   "source": [
    "import os\n",
    "from dotenv import load_dotenv\n",
    "\n",
    "load_dotenv()\n",
    "\n",
    "from langchain_openai import ChatOpenAI\n",
    "from langchain_core.messages import HumanMessage, SystemMessage, AIMessage\n",
    "from langchain_core.prompts import ChatPromptTemplate, MessagesPlaceholder, PromptTemplate\n",
    "\n",
    "from langgraph.graph import StateGraph, START, END\n",
    "from langgraph.graph.message import AnyMessage, add_messages\n",
    "\n",
    "from pydantic import BaseModel, Field, ConfigDict, field_validator\n",
    "from typing import Annotated, List, Optional, Dict, Any, Literal\n",
    "import json"
   ]
  },
  {
   "cell_type": "code",
   "execution_count": null,
   "metadata": {},
   "outputs": [],
   "source": [
    "llm = llm = ChatOpenAI(model=\"deepseek-chat\", openai_api_key=os.getenv(\"DEEPSEEK_API_KEY\"), openai_api_base='https://api.deepseek.com')\n"
   ]
  },
  {
   "cell_type": "markdown",
   "metadata": {},
   "source": [
    "## 状态"
   ]
  },
  {
   "cell_type": "code",
   "execution_count": null,
   "metadata": {},
   "outputs": [],
   "source": [
    "class State(BaseModel):\n",
    "    model_config = ConfigDict(arbitrary_types_allowed=True)\n",
    "\n",
    "    messages: Annotated[List[AnyMessage], add_messages] = Field(default_factory=list, title=\"对话列表\")\n",
    "    prompt: str = Field(default=\"\", title=\"PromptGenerator生成的Prompt\")\n",
    "    success: bool = Field(default=False, title=\"节点执行是否成功\")\n",
    "    log: str = Field(default=\"\", title=\"节点执行日志\")\n",
    "\n",
    "    @field_validator(\"messages\", mode=\"before\")\n",
    "    def validate_messages(cls, v, info):\n",
    "        if 'messages' in info.data:\n",
    "            return add_messages(info.data['messages'], v)\n",
    "        else:\n",
    "            return v if isinstance(v, list) else [v]\n",
    "    "
   ]
  },
  {
   "cell_type": "markdown",
   "metadata": {},
   "source": [
    "## PromptGenerator"
   ]
  },
  {
   "cell_type": "code",
   "execution_count": null,
   "metadata": {},
   "outputs": [],
   "source": [
    "class PromptFormat(BaseModel):\n",
    "    knowledge_mastery: str = Field(\n",
    "        ...,\n",
    "        description=\"学生当前知识掌握程度评估\",\n",
    "        example=\"已准确掌握图遍历和递归等基础概念\"\n",
    "    )\n",
    "    guiding_direction: List[str] = Field(\n",
    "        ...,\n",
    "        description=\"引导方向\",\n",
    "        example=[\n",
    "            \"设计迷宫问题比较两种算法效率\",\n",
    "            \"引入加权图下的扩展应用\",\n",
    "            \"探讨递归实现DFS的栈溢出风险\"\n",
    "        ]\n",
    "    )\n",
    "\n",
    "    @property\n",
    "    def as_str(self):\n",
    "        guiding_direction_str = \"\\n\".join([f\"{i+1}. {direction}\" for i, direction in enumerate(self.guiding_direction)])\n",
    "        return f\"学生当前知识掌握程度评估：{self.knowledge_mastery}\\n建议引导方向：{guiding_direction_str}\"\n",
    "\n",
    "with open('/root/autodl-tmp/EasyDS/src/agents/prompts/prompt_generator_prompt.txt', 'r', encoding='utf-8') as f:\n",
    "    prompt_generator_prompts = f.read()\n",
    "\n",
    "def prompt_generator(state: State) -> State:\n",
    "    \"\"\"根据当前状态生成新的Prompt\"\"\"\n",
    "    try:\n",
    "        conversation = \"\"\n",
    "        for message in state.messages:\n",
    "            if isinstance(message, HumanMessage):\n",
    "                conversation += f\"user: {message.content}\\n\"\n",
    "            elif isinstance(message, AIMessage):\n",
    "                conversation += f\"assistant: {message.content}\\n\"\n",
    "        prompt = ChatPromptTemplate([\n",
    "            (\"system\", prompt_generator_prompts),\n",
    "            (\"human\", \"{conversation}\"),\n",
    "        ])\n",
    "        prompt_generator_chain = prompt | llm.with_structured_output(PromptFormat)\n",
    "        prompt = prompt_generator_chain.invoke({\"conversation\": conversation})\n",
    "        return State(prompt=prompt.as_str, success=True, log=f\"Prompt生成成功\")\n",
    "    except Exception as e:\n",
    "        return State(prompt=\"\", success=False, log=str(e))"
   ]
  },
  {
   "cell_type": "markdown",
   "metadata": {},
   "source": [
    "## TeacherAgent Node"
   ]
  },
  {
   "cell_type": "code",
   "execution_count": null,
   "metadata": {},
   "outputs": [],
   "source": [
    "with open('/root/autodl-tmp/EasyDS/src/agents/prompts/teacher_agent_prompt.txt', 'r', encoding='utf-8') as f:\n",
    "    teacher_agent_prompt = f.read()\n",
    "\n",
    "def teacher_agent(state: State) -> State:\n",
    "    \"\"\"根据当前状态生成新的Prompt\"\"\"\n",
    "    try:\n",
    "        conversation = \"\"\n",
    "        for message in state.messages:\n",
    "            if isinstance(message, HumanMessage):\n",
    "                conversation += f\"user: {message.content}\\n\"\n",
    "            elif isinstance(message, AIMessage):\n",
    "                conversation += f\"assistant: {message.content}\\n\"\n",
    "        \n",
    "        teacher_agent_prompt = PromptTemplate.from_template(teacher_agent_prompt)\n",
    "        teacher_agent_prompt = teacher_agent_prompt.invoke({\"prompt_generator_prompt\": state.prompt})\n",
    "\n",
    "        prompt = ChatPromptTemplate([\n",
    "            (\"system\", teacher_agent_prompt),\n",
    "            (\"human\", \"{conversation}\"),\n",
    "        ])\n",
    "        teacher_agent_chain = prompt | llm\n",
    "        guidance = teacher_agent_chain.invoke({\"conversation\": conversation})\n",
    "        return State(route=\"teacher_agent\", success=True, log=f\"TeacherAgent生成成功\", messages=[AIMessage(content=guidance)])\n",
    "    except Exception as e:\n",
    "        return State(route=\"teacher_agent\", success=False, log=str(e))\n"
   ]
  },
  {
   "cell_type": "markdown",
   "metadata": {},
   "source": [
    "## RouterNode"
   ]
  },
  {
   "cell_type": "code",
   "execution_count": null,
   "metadata": {},
   "outputs": [],
   "source": [
    "class RouterState(State):\n",
    "    next_node: str = Field(default=\"teacher_agent\", title=\"下一个节点\")\n",
    "\n",
    "class RouterStructure(BaseModel):\n",
    "    next_node: str = Field(default=\"teacher_agent\", title=\"下一个节点\")\n",
    "\n",
    "with open('/root/autodl-tmp/EasyDS/src/agents/prompts/router_node_prompt.txt', 'r', encoding='utf-8') as f:\n",
    "    router_node_prompt = f.read()\n",
    "\n",
    "def router_node(state: State) -> State:\n",
    "    \"\"\"根据当前状态选择下一个节点\"\"\"\n",
    "    try:\n",
    "        conversation = \"\"\n",
    "        for message in state.messages:\n",
    "            if isinstance(message, HumanMessage):\n",
    "                conversation += f\"user: {message.content}\\n\"\n",
    "            elif isinstance(message, AIMessage):\n",
    "                conversation += f\"assistant: {message.content}\\n\"\n",
    "\n",
    "        prompt = ChatPromptTemplate([\n",
    "            (\"system\", router_node_prompt),\n",
    "            (\"human\", \"{conversation}\"),\n",
    "        ])\n",
    "        router_node_chain = prompt | llm.with_structured_output(RouterStructure)\n",
    "        router_node_result = router_node_chain.invoke({\"conversation\": conversation})\n",
    "        return State(next_node=router_node_result.next_node, success=True, log=f\"RouterNode生成成功\")\n",
    "    except Exception as e:\n",
    "        return State(next_node=\"teacher_agent\", success=False, log=str(e))"
   ]
  },
  {
   "cell_type": "markdown",
   "metadata": {},
   "source": [
    "## MainGraph\n",
    "class MainGraph(StateGraph):\n",
    "    def __init__(self):\n",
    "        super().__init__(\n",
    "            nodes=[\n",
    "                \"prompt_generator\",\n",
    "                \"teacher_agent\","
   ]
  }
 ],
 "metadata": {
  "kernelspec": {
   "display_name": "easyDS",
   "language": "python",
   "name": "python3"
  },
  "language_info": {
   "codemirror_mode": {
    "name": "ipython",
    "version": 3
   },
   "file_extension": ".py",
   "mimetype": "text/x-python",
   "name": "python",
   "nbconvert_exporter": "python",
   "pygments_lexer": "ipython3",
   "version": "3.11.11"
  }
 },
 "nbformat": 4,
 "nbformat_minor": 2
}
